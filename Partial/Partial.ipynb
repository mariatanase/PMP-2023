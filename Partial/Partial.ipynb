{
 "cells": [
  {
   "cell_type": "code",
   "execution_count": 16,
   "metadata": {},
   "outputs": [
    {
     "name": "stdout",
     "output_type": "stream",
     "text": [
      "Probabilitate J0:0.4477\n",
      "Probabilitatea J1:0.5523\n"
     ]
    }
   ],
   "source": [
    "#Subiectul 1\n",
    "from scipy import stats\n",
    "\n",
    "#Folosesc distributia binomiala pentru a modela un experiment al unei singure aruncari cu banul cu o probabilitate de a nimeri stema de 0.5\n",
    "#Folosesc distributia binomiala deoarece este folosita pentru a modela numarul de succese intr-un numar fix de incercari\n",
    "stema_moneda_aleg_jucator = stats.binom.rvs(1, 0.5)\n",
    "j0_win = 0\n",
    "j1_win = 0\n",
    "\n",
    "for i in range(10000):\n",
    "    if stema_moneda_aleg_jucator == 0: #Presupunem ca jucatorul 2 (J1) a ales stema\n",
    "        #Jucatorul 1 (J0)\n",
    "        #Moneda normala, o singura aruncare\n",
    "        n = stats.binom.rvs(1, 0.5)\n",
    "        #Jucatorul 2 (J1)\n",
    "        #Moneda masluita, n+1 aruncari\n",
    "        m = stats.binom.rvs(n + 1, 2/3)\n",
    "        if n >= m:\n",
    "            j0_win += 1\n",
    "        else:\n",
    "            j1_win += 1\n",
    "    else:\n",
    "        #Jucatorul 2 (J1)\n",
    "        n = stats.binom.rvs(1, 2/3)\n",
    "        #Jucatorul 1 (J0)\n",
    "        m = stats.binom.rvs(n + 1, 0.5)\n",
    "        if n >= m:\n",
    "            j1_win += 1\n",
    "        else:\n",
    "            j0_win += 1\n",
    "\n",
    "print(f\"Probabilitate J0:{j0_win/10000}\")\n",
    "print(f\"Probabilitatea J1:{j1_win/10000}\")\n",
    "#Jucatorul cu moneda masluita are sanse mai mari de castig, probabilitatea lui de castig fiind mai mare"
   ]
  },
  {
   "cell_type": "code",
   "execution_count": null,
   "metadata": {},
   "outputs": [],
   "source": [
    "#Subiectul 2\n",
    "import pymc as pm\n",
    "from scipy import stats\n",
    "import arviz as az\n",
    "import matplotlib.pyplot as plt\n",
    "\n",
    "#Generez 100 de timpi medii de asteptare folosind o distributie normala\n",
    "mu = 10 #Aleg media distributiei ca 10\n",
    "sd = 5  #Aleg deviatia standard ca 5\n",
    "timp_mediu = stats.norm.rvs(loc=mu, scale=sd, size=100)\n",
    "\n",
    "#Deoarece am o distributie initiala normala, voi alege sa folosesc un model Gaussian\n",
    "with pm.Model() as model:\n",
    "    μ = pm.Uniform('μ', lower=0, upper=25)\n",
    "    σ = pm.HalfNormal('σ', sigma=5)\n",
    "    #Folosesc esantioanele ca date observate\n",
    "    y = pm.Normal('y', mu=μ, sigma=σ, observed=timp_mediu)\n",
    "    idata_g = pm.sample(1000, return_inferencedata=True)\n",
    "\n",
    "#Distributia a posteriori pentru parametrul μ\n",
    "trace = idata_g.posterior\n",
    "az.plot_posterior(trace, var_names=['μ'])\n",
    "plt.show()\n"
   ]
  }
 ],
 "metadata": {
  "kernelspec": {
   "display_name": "Python 3",
   "language": "python",
   "name": "python3"
  },
  "language_info": {
   "codemirror_mode": {
    "name": "ipython",
    "version": 3
   },
   "file_extension": ".py",
   "mimetype": "text/x-python",
   "name": "python",
   "nbconvert_exporter": "python",
   "pygments_lexer": "ipython3",
   "version": "3.8.2"
  }
 },
 "nbformat": 4,
 "nbformat_minor": 2
}
